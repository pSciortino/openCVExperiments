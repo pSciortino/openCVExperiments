{
 "cells": [
  {
   "cell_type": "markdown",
   "metadata": {},
   "source": [
    "# Videos"
   ]
  },
  {
   "cell_type": "code",
   "execution_count": 8,
   "metadata": {},
   "outputs": [],
   "source": [
    "import cv2"
   ]
  },
  {
   "cell_type": "code",
   "execution_count": 9,
   "metadata": {},
   "outputs": [],
   "source": [
    "videoCapture = cv2.VideoCapture('MyInpytVid.avi')\n",
    "\n",
    "fps = videoCapture.get(cv2.CAP_PROP_FPS)\n",
    "\n",
    "size = ( int(videoCapture.get(cv2.CAP_PROP_FRAME_WIDTH)),\n",
    "         int(videoCapture.get(cv2.CAP_PROP_FRAME_HEIGHT)) )\n",
    "\n",
    "videoWriter = cv2.VideoWriter('MyOutputVid.avi', cv2.VideoWriter_fourcc('I','4','2','0'), fps, size)\n",
    "\n",
    "success, framme = videoCapture.read()\n",
    "\n",
    "while success:\n",
    "    videoWriter.write(frame)\n",
    "    success, frame = videoCapture.read()\n"
   ]
  }
 ],
 "metadata": {
  "kernelspec": {
   "display_name": "Python 3",
   "language": "python",
   "name": "python3"
  },
  "language_info": {
   "codemirror_mode": {
    "name": "ipython",
    "version": 3
   },
   "file_extension": ".py",
   "mimetype": "text/x-python",
   "name": "python",
   "nbconvert_exporter": "python",
   "pygments_lexer": "ipython3",
   "version": "3.8.5"
  },
  "orig_nbformat": 2
 },
 "nbformat": 4,
 "nbformat_minor": 2
}